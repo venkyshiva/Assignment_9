{
 "cells": [
  {
   "cell_type": "markdown",
   "metadata": {},
   "source": [
    "# Task 1:"
   ]
  },
  {
   "cell_type": "markdown",
   "metadata": {},
   "source": [
    "### 1. You survey households in your area to find the average rent they are paying. Find the standard deviation from the following data: <p>$1550, $1700, $900, $850, $1000, $950.</p>"
   ]
  },
  {
   "cell_type": "code",
   "execution_count": 1,
   "metadata": {},
   "outputs": [
    {
     "data": {
      "text/plain": [
       "367.9900360969936"
      ]
     },
     "execution_count": 1,
     "metadata": {},
     "output_type": "execute_result"
    }
   ],
   "source": [
    "import statistics as sts #Importing Statistics module\n",
    "given_data_list = [1550,1700,900,850,1000,950] #Creating list of the given data\n",
    "sts.stdev(given_data_list) #Calculating the standard deviation"
   ]
  },
  {
   "cell_type": "markdown",
   "metadata": {},
   "source": [
    "### 2. Find the variance for the following set of data representing trees in California (heights in feet): 3, 21, 98, 203, 17, 9"
   ]
  },
  {
   "cell_type": "code",
   "execution_count": 2,
   "metadata": {},
   "outputs": [
    {
     "data": {
      "text/plain": [
       "6219.9"
      ]
     },
     "execution_count": 2,
     "metadata": {},
     "output_type": "execute_result"
    }
   ],
   "source": [
    "given_data_list = [3, 21, 98, 203, 17, 9] #Creating list of the given data\n",
    "sts.variance(given_data_list) #Calculating the variance"
   ]
  },
  {
   "cell_type": "markdown",
   "metadata": {},
   "source": [
    "### 3. In a class on 100 students, 80 students passed in all subjects, 10 failed in one subject, 7 failed in two subjects and 3 failed in three subjects. Find the probability distribution of the variable for number of subjects a student from the given class has failed in."
   ]
  },
  {
   "cell_type": "code",
   "execution_count": 3,
   "metadata": {},
   "outputs": [
    {
     "name": "stdout",
     "output_type": "stream",
     "text": [
      "The probability distribution of the variable for number of subjects a student from the given class has failed in: \n",
      "X    0    1     2     3\n",
      "P(X)  0.8  0.1  0.07  0.03\n"
     ]
    }
   ],
   "source": [
    "import pandas as pd\n",
    "\n",
    "class_strength = 100 #Given class strength is 100\n",
    "passed_all_subjects = 80 #Given, 80 students passed in all subjects\n",
    "failed_one_subject = 10 #Given, 10 students failed in one subject\n",
    "failed_two_subjects = 7 #Given, 7 students failed in two subjects \n",
    "failed_three_subjects = 3 #Given, 3 students failed in three subjects\n",
    "\n",
    "prob_failing_zero_subject = float(passed_all_subjects)/class_strength #The probability of student failing in 0 subjects, P(X=0)\n",
    "prob_failing_one_subject = float(failed_one_subject)/class_strength #The probability of students failing in 1 subjects, P(X=1)\n",
    "prob_failing_two_subjects = float(failed_two_subjects)/class_strength #The probability of students failing in 2 subjects, P(X=2)\n",
    "prob_failing_three_subjects = float(failed_three_subjects)/class_strength #The probability of students failing in 3 subjects, P(X=3)\n",
    "\n",
    "print(\"The probability distribution of the variable for number of subjects a student from the given class has failed in: \")\n",
    "\n",
    "prob_distribution_data = {'X': ['P(X)'],\n",
    "                          '0': [prob_failing_zero_subject],\n",
    "                          '1': [prob_failing_one_subject],\n",
    "                          '2': [prob_failing_two_subjects],\n",
    "                          '3': [prob_failing_three_subjects]}\n",
    "\n",
    "df = pd.DataFrame(data=prob_distribution_data)\n",
    "print(df[pd.unique(['X'] + df.columns.values.tolist()).tolist()].to_string(index=False))"
   ]
  },
  {
   "cell_type": "markdown",
   "metadata": {},
   "source": [
    "# Task 2:"
   ]
  },
  {
   "cell_type": "markdown",
   "metadata": {},
   "source": [
    "### 1. A test is conducted which is consisting of 20 MCQs (multiple choices questions) with every MCQ having its four options out of which only one is correct. Determine the probability that a person undertaking that test has answered exactly 5 questions wrong."
   ]
  },
  {
   "cell_type": "code",
   "execution_count": 4,
   "metadata": {},
   "outputs": [
    {
     "name": "stdout",
     "output_type": "stream",
     "text": [
      "The probability that a person undertaking that test has answered exactly 5 questions wrong is: 0.00000343\n"
     ]
    }
   ],
   "source": [
    "import math\n",
    "n = 20 #Given, Test consists 20 MCQs\n",
    "m = 5 #Given, Exactly 5 questions wrong\n",
    "k = n-m #Number of correct answers\n",
    "\n",
    "MCQ_given_options = 4 #Given, MCQs has 4 options\n",
    "MCQ_correct_option = 1 #Given, MCQs has 1 correct option\n",
    "\n",
    "s = MCQ_correct_option/MCQ_given_options #Probability of right answer\n",
    "q = 1-s #Probability of wrong answer\n",
    "\n",
    "#Probability that a person undertaking that test has answered exactly 5 questions wrong using binomial distribution\n",
    "prob_five_answers = (math.factorial(n)/(math.factorial(k)*math.factorial(m)))*(s**15)*(q**5) #C(n,m)*(s**15)*(q**5) \n",
    "print('The probability that a person undertaking that test has answered exactly 5 questions wrong is: %.8f' % (prob_five_answers))"
   ]
  },
  {
   "cell_type": "markdown",
   "metadata": {},
   "source": [
    "### 2. A die marked A to E is rolled 50 times. Find the probability of getting a “D” exactly 5 times."
   ]
  },
  {
   "cell_type": "code",
   "execution_count": 5,
   "metadata": {},
   "outputs": [
    {
     "name": "stdout",
     "output_type": "stream",
     "text": [
      "The probability of getting a D exactly 5 times: 0.029531204310524296\n"
     ]
    }
   ],
   "source": [
    "import math\n",
    "n = 50 #Number of trials attempted: A die rolled 50 times\n",
    "k = 5 #Number of successful attempts: 'D' exactly 5 times\n",
    "m = n-k #Number of failed attempts\n",
    "\n",
    "num_die_faces = 5 #Given, A die marked A to E\n",
    "num_D_face = 1 #Given die has one 'D' face\n",
    "\n",
    "s = num_D_face/num_die_faces #Probability of getting 'D'\n",
    "q = 1-s #Probability of not getting 'D' face\n",
    "\n",
    "#Probability of getting a “D” exactly 5 times\n",
    "prob_five_D = (math.factorial(n)/(math.factorial(k)* math.factorial(m)))*(s**5)*(q**45) #C(n,m)*(s**15)*(q**5) \n",
    "print(\"The probability of getting a D exactly 5 times:\",prob_five_D)"
   ]
  },
  {
   "cell_type": "markdown",
   "metadata": {},
   "source": [
    "### 3. Two balls are drawn at random in succession without replacement from an urn containing 4 red balls and 6 black balls. Find the probabilities of all the possible outcomes."
   ]
  },
  {
   "cell_type": "code",
   "execution_count": 6,
   "metadata": {},
   "outputs": [
    {
     "name": "stdout",
     "output_type": "stream",
     "text": [
      "Probability of 2 balls are drawn at random in succession without replacement and both are red balls:  0.13333333333333333\n",
      "Probability of 2 balls are drawn at random in succession without replacement and both are black balls:  0.3333333333333333\n",
      "Probability of 2 balls are drawn at random in succession without replacement and one is black ball and other is read ball:  0.5333333333333333\n"
     ]
    }
   ],
   "source": [
    "import math\n",
    "n = 10 #Total number of balls = 4 red balls + 6 black balls\n",
    "k = 2  #Given, Two balls are drawn\n",
    "\n",
    "#Defining the function with returns the combination\n",
    "def calc_combination(p,q):\n",
    "    return math.factorial(p)/(math.factorial(q)*math.factorial(p-q))\n",
    "\n",
    "#All possible outcomes: RR, BB, RB or BR\n",
    "\n",
    "#Probability of two balls drawn at random in succession without replacement and both are red balls P(RR)=C(4,2)*C(6,0)/C(10,2)\n",
    "prob_RR = calc_combination(4,2)*calc_combination(6,0)/calc_combination(10,2)\n",
    "print(\"Probability of 2 balls are drawn at random in succession without replacement and both are red balls: \",prob_RR)\n",
    "\n",
    "#Probability of two balls drawn at random in succession without replacement and both are black balls P(BB)=C(6,2)*C(4,0)/C(10,2)\n",
    "prob_BB = calc_combination(6,2)*calc_combination(4,0)/calc_combination(10,2) \n",
    "print(\"Probability of 2 balls are drawn at random in succession without replacement and both are black balls: \",prob_BB)\n",
    "\n",
    "#Probability of two balls drawn at random in succession without replacement and one is black ball and other is red ball P(BR)=C(6,1)*C(4,1)/C(10,2)\n",
    "prob_BR = calc_combination(6,1)*calc_combination(4,1)/calc_combination(10,2) \n",
    "print(\"Probability of 2 balls are drawn at random in succession without replacement and one is black ball and other is read ball: \",prob_BR)\n",
    "\n"
   ]
  },
  {
   "cell_type": "code",
   "execution_count": null,
   "metadata": {},
   "outputs": [],
   "source": []
  }
 ],
 "metadata": {
  "kernelspec": {
   "display_name": "Python 3",
   "language": "python",
   "name": "python3"
  },
  "language_info": {
   "codemirror_mode": {
    "name": "ipython",
    "version": 3
   },
   "file_extension": ".py",
   "mimetype": "text/x-python",
   "name": "python",
   "nbconvert_exporter": "python",
   "pygments_lexer": "ipython3",
   "version": "3.6.4"
  }
 },
 "nbformat": 4,
 "nbformat_minor": 2
}
